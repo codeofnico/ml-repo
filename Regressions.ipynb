{
 "cells": [
  {
   "cell_type": "code",
   "execution_count": 29,
   "id": "b9f392bf-3072-4eb3-b0f5-95df827b5c8d",
   "metadata": {},
   "outputs": [],
   "source": [
    "import numpy as np\n",
    "import matplotlib.pyplot as plt \n",
    "from sklearn.linear_model import LinearRegression\n",
    "from sklearn.linear_model import SGDRegressor\n",
    "from sklearn.preprocessing import PolynomialFeatures"
   ]
  },
  {
   "cell_type": "markdown",
   "id": "5ec3964d-ee30-4a95-bf46-7bcccbc2fe6d",
   "metadata": {},
   "source": [
    "-----"
   ]
  },
  {
   "cell_type": "markdown",
   "id": "2ed39c82-4c17-4d9b-99d1-f46b7c082737",
   "metadata": {},
   "source": [
    "# Multivariate Linear Regresion"
   ]
  },
  {
   "cell_type": "code",
   "execution_count": 3,
   "id": "b96453c8-d410-4a9f-854e-6cecccc621b4",
   "metadata": {},
   "outputs": [],
   "source": [
    "# Normal form\n",
    "X = 2 * np.random.rand(100, 1)\n",
    "y = 4 + 3 * X + np.random.randn(100, 1)"
   ]
  },
  {
   "cell_type": "code",
   "execution_count": 4,
   "id": "015a87b8-530e-4c7d-9c00-7bf795dce266",
   "metadata": {},
   "outputs": [],
   "source": [
    "X_b = np.c_[np.ones((100, 1)), X] # add x0 = 1 to each instance\n",
    "theta_best = np.linalg.inv(X_b.T.dot(X_b)).dot(X_b.T).dot(y)"
   ]
  },
  {
   "cell_type": "code",
   "execution_count": 5,
   "id": "fb73380f-da05-4e19-9f1f-6512d78d2e43",
   "metadata": {},
   "outputs": [
    {
     "data": {
      "text/plain": [
       "array([[3.88984612],\n",
       "       [3.10307354]])"
      ]
     },
     "execution_count": 5,
     "metadata": {},
     "output_type": "execute_result"
    }
   ],
   "source": [
    "theta_best"
   ]
  },
  {
   "cell_type": "code",
   "execution_count": 7,
   "id": "909287fe-e5a8-4b11-a9ee-22f78c6a4b4c",
   "metadata": {},
   "outputs": [],
   "source": [
    "# The actual function that we used to generate the data is y = 4 + 3x1 + Gaussian noise."
   ]
  },
  {
   "cell_type": "code",
   "execution_count": 8,
   "id": "92e6fd84-0dee-4ce9-ab28-389e1ee07399",
   "metadata": {},
   "outputs": [],
   "source": [
    "# We would have hoped for θ0 = 4 and θ1 = 3 instead of θ0 = 3.88984612 and θ1 = 3.10307354 Close\n",
    "# enough, but the noise made it impossible to recover the exact parameters of the origi‐\n",
    "# nal function."
   ]
  },
  {
   "cell_type": "code",
   "execution_count": 9,
   "id": "fb73752a-9d4e-4417-8885-778cf8061628",
   "metadata": {},
   "outputs": [
    {
     "data": {
      "text/plain": [
       "array([[ 3.88984612],\n",
       "       [10.09599319]])"
      ]
     },
     "execution_count": 9,
     "metadata": {},
     "output_type": "execute_result"
    }
   ],
   "source": [
    "# Two new predictions\n",
    "X_new = np.array([[0], [2]])\n",
    "X_new_b = np.c_[np.ones((2, 1)), X_new] # add x0 = 1 to each instance\n",
    "y_predict = X_new_b.dot(theta_best)\n",
    "y_predict"
   ]
  },
  {
   "cell_type": "code",
   "execution_count": 14,
   "id": "cdb36d68-127d-40e1-841b-17fbde9db38b",
   "metadata": {},
   "outputs": [
    {
     "data": {
      "image/png": "[encoded data removed]",
      "text/plain": [
       "<Figure size 640x480 with 1 Axes>"
      ]
     },
     "metadata": {},
     "output_type": "display_data"
    }
   ],
   "source": [
    "# Prediction vs data plot\n",
    "plt.plot(X_new, y_predict, \"r-\")\n",
    "plt.plot(X, y, \"b.\")\n",
    "plt.axis([0, 2, 0, 15])\n",
    "plt.show()"
   ]
  },
  {
   "cell_type": "markdown",
   "id": "54b52912-fa3f-45ba-a2d3-a12d240d1d73",
   "metadata": {},
   "source": [
    "-----"
   ]
  },
  {
   "cell_type": "markdown",
   "id": "46cd0eea-11f7-4967-8f73-981587099a78",
   "metadata": {},
   "source": [
    "# Linear Regression on Scikit Learn"
   ]
  },
  {
   "cell_type": "code",
   "execution_count": 16,
   "id": "8f3d21d2-7b14-4f88-b82e-756724488953",
   "metadata": {},
   "outputs": [
    {
     "data": {
      "text/plain": [
       "array([[ 3.88984612],\n",
       "       [10.09599319]])"
      ]
     },
     "execution_count": 16,
     "metadata": {},
     "output_type": "execute_result"
    }
   ],
   "source": [
    "lin_reg = LinearRegression()\n",
    "lin_reg.fit(X, y)\n",
    "lin_reg.intercept_, lin_reg.coef_\n",
    "lin_reg.predict(X_new)"
   ]
  },
  {
   "cell_type": "code",
   "execution_count": 17,
   "id": "0af76204-2036-4c23-8aa8-e449ce48f120",
   "metadata": {},
   "outputs": [],
   "source": [
    "# The LinearRegression class is based on the scipy.linalg.lstsq() function (the\n",
    "# name stands for “least squares”), which you could call directly:"
   ]
  },
  {
   "cell_type": "code",
   "execution_count": 19,
   "id": "9106dc63-4b9d-4d4b-ae4e-35d98f7c50b1",
   "metadata": {},
   "outputs": [
    {
     "data": {
      "text/plain": [
       "array([[3.88984612],\n",
       "       [3.10307354]])"
      ]
     },
     "execution_count": 19,
     "metadata": {},
     "output_type": "execute_result"
    }
   ],
   "source": [
    "theta_best_svd, residuals, rank, s = np.linalg.lstsq(X_b, y, rcond=1e-6)\n",
    "theta_best_svd"
   ]
  },
  {
   "cell_type": "code",
   "execution_count": 20,
   "id": "7a005435-92c8-4841-a340-f0e7d5b6797f",
   "metadata": {},
   "outputs": [
    {
     "data": {
      "text/plain": [
       "array([[3.88984612],\n",
       "       [3.10307354]])"
      ]
     },
     "execution_count": 20,
     "metadata": {},
     "output_type": "execute_result"
    }
   ],
   "source": [
    "# This algorithm works with the pseudoinverse form instead of the normal form\n",
    "np.linalg.pinv(X_b).dot(y)"
   ]
  },
  {
   "cell_type": "markdown",
   "id": "793f1092-4dc7-4961-a9ac-82f199d73614",
   "metadata": {},
   "source": [
    "-----"
   ]
  },
  {
   "cell_type": "markdown",
   "id": "648f0ae6-a685-4efb-8fa9-c0bd4803bcd3",
   "metadata": {},
   "source": [
    "# Gradient Descendent"
   ]
  },
  {
   "cell_type": "code",
   "execution_count": 21,
   "id": "ce7f09c9-4979-45be-96fd-a92d50383b6c",
   "metadata": {},
   "outputs": [],
   "source": [
    "eta = 0.1 # learning rate\n",
    "n_iterations = 1000\n",
    "m = 100\n",
    "theta = np.random.randn(2,1) # random initialization\n",
    "for iteration in range(n_iterations):\n",
    "    gradients = 2/m * X_b.T.dot(X_b.dot(theta) - y)\n",
    "    theta = theta - eta * gradients"
   ]
  },
  {
   "cell_type": "code",
   "execution_count": 23,
   "id": "45c3d68e-f7f7-4c21-b091-5343647a4034",
   "metadata": {},
   "outputs": [
    {
     "data": {
      "text/plain": [
       "array([[3.88984612],\n",
       "       [3.10307354]])"
      ]
     },
     "execution_count": 23,
     "metadata": {},
     "output_type": "execute_result"
    }
   ],
   "source": [
    "# We found the same solution!\n",
    "theta"
   ]
  },
  {
   "cell_type": "markdown",
   "id": "45258cd7-b954-46bd-8ee1-b3eb59b3e4c8",
   "metadata": {},
   "source": [
    "----"
   ]
  },
  {
   "cell_type": "markdown",
   "id": "51d9bd11-bf45-40a9-82c0-6d92fa5f104a",
   "metadata": {},
   "source": [
    "# Stochastic Gradient Descend"
   ]
  },
  {
   "cell_type": "code",
   "execution_count": 24,
   "id": "b9b656cc-00fc-4553-a7f2-3c84ce29d67c",
   "metadata": {},
   "outputs": [],
   "source": [
    "# own made \n",
    "n_epochs = 50\n",
    "t0, t1 = 5, 50 # learning schedule hyperparameters\n",
    "\n",
    "def learning_schedule(t):\n",
    "    return t0 / (t + t1)\n",
    "theta = np.random.randn(2,1) # random initialization\n",
    "\n",
    "for epoch in range(n_epochs):\n",
    "    for i in range(m):\n",
    "        random_index = np.random.randint(m)\n",
    "        xi = X_b[random_index:random_index+1]\n",
    "        yi = y[random_index:random_index+1]\n",
    "        gradients = 2 * xi.T.dot(xi.dot(theta) - yi)\n",
    "        eta = learning_schedule(epoch * m + i)\n",
    "        theta = theta - eta * gradients"
   ]
  },
  {
   "cell_type": "code",
   "execution_count": 26,
   "id": "9c68ba32-e2df-4fc8-972e-98e6c619ca33",
   "metadata": {},
   "outputs": [
    {
     "data": {
      "text/plain": [
       "array([[3.86529641],\n",
       "       [3.12394815]])"
      ]
     },
     "execution_count": 26,
     "metadata": {},
     "output_type": "execute_result"
    }
   ],
   "source": [
    "# Very close\n",
    "theta"
   ]
  },
  {
   "cell_type": "code",
   "execution_count": 28,
   "id": "e4df43bd-3c53-4a68-bfe8-925058676c2b",
   "metadata": {},
   "outputs": [
    {
     "data": {
      "text/plain": [
       "(array([3.79799112]), array([3.013281]))"
      ]
     },
     "execution_count": 28,
     "metadata": {},
     "output_type": "execute_result"
    }
   ],
   "source": [
    "# Scikit learn SGD\n",
    "sgd_reg = SGDRegressor(max_iter=1000, tol=1e-3, penalty=None, eta0=0.1)\n",
    "sgd_reg.fit(X, y.ravel())\n",
    "sgd_reg.intercept_, sgd_reg.coef_"
   ]
  },
  {
   "cell_type": "markdown",
   "id": "b93dd484-fa61-4860-80df-d497eb6aa738",
   "metadata": {},
   "source": [
    "-----"
   ]
  },
  {
   "cell_type": "markdown",
   "id": "759e56f6-6a83-44c4-94f4-9ec996de2671",
   "metadata": {},
   "source": [
    "# Polinomial Regression"
   ]
  },
  {
   "cell_type": "code",
   "execution_count": 30,
   "id": "9ab9a040-e599-4435-b1fb-968d2a0eab3e",
   "metadata": {},
   "outputs": [
    {
     "data": {
      "text/plain": [
       "array([0.2838026])"
      ]
     },
     "execution_count": 30,
     "metadata": {},
     "output_type": "execute_result"
    }
   ],
   "source": [
    "poly_features = PolynomialFeatures(degree=2, include_bias=False)\n",
    "X_poly = poly_features.fit_transform(X)\n",
    "X[0]"
   ]
  },
  {
   "cell_type": "code",
   "execution_count": 31,
   "id": "a5fb23b1-6fb3-4d3f-93cf-99de8c0985d6",
   "metadata": {},
   "outputs": [
    {
     "data": {
      "text/plain": [
       "array([0.2838026 , 0.08054391])"
      ]
     },
     "execution_count": 31,
     "metadata": {},
     "output_type": "execute_result"
    }
   ],
   "source": [
    "X_poly[0]"
   ]
  },
  {
   "cell_type": "code",
   "execution_count": null,
   "id": "39df69f6-1ec9-4e61-8ca9-dcf29a58e092",
   "metadata": {},
   "outputs": [],
   "source": []
  }
 ],
 "metadata": {
  "kernelspec": {
   "display_name": "Python 3 (ipykernel)",
   "language": "python",
   "name": "python3"
  },
  "language_info": {
   "codemirror_mode": {
    "name": "ipython",
    "version": 3
   },
   "file_extension": ".py",
   "mimetype": "text/x-python",
   "name": "python",
   "nbconvert_exporter": "python",
   "pygments_lexer": "ipython3",
   "version": "3.11.9"
  }
 },
 "nbformat": 4,
 "nbformat_minor": 5
}
