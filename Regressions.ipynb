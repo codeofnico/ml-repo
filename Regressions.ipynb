{
 "cells": [
  {
   "cell_type": "code",
   "execution_count": 11,
   "id": "b9f392bf-3072-4eb3-b0f5-95df827b5c8d",
   "metadata": {},
   "outputs": [],
   "source": [
    "import numpy as np\n",
    "import matplotlib.pyplot as plt "
   ]
  },
  {
   "cell_type": "markdown",
   "id": "5ec3964d-ee30-4a95-bf46-7bcccbc2fe6d",
   "metadata": {},
   "source": [
    "-----"
   ]
  },
  {
   "cell_type": "markdown",
   "id": "2ed39c82-4c17-4d9b-99d1-f46b7c082737",
   "metadata": {},
   "source": [
    "# Multivariate Linear Regresion"
   ]
  },
  {
   "cell_type": "code",
   "execution_count": 3,
   "id": "b96453c8-d410-4a9f-854e-6cecccc621b4",
   "metadata": {},
   "outputs": [],
   "source": [
    "# Normal form\n",
    "X = 2 * np.random.rand(100, 1)\n",
    "y = 4 + 3 * X + np.random.randn(100, 1)"
   ]
  },
  {
   "cell_type": "code",
   "execution_count": 4,
   "id": "015a87b8-530e-4c7d-9c00-7bf795dce266",
   "metadata": {},
   "outputs": [],
   "source": [
    "X_b = np.c_[np.ones((100, 1)), X] # add x0 = 1 to each instance\n",
    "theta_best = np.linalg.inv(X_b.T.dot(X_b)).dot(X_b.T).dot(y)"
   ]
  },
  {
   "cell_type": "code",
   "execution_count": 5,
   "id": "fb73380f-da05-4e19-9f1f-6512d78d2e43",
   "metadata": {},
   "outputs": [
    {
     "data": {
      "text/plain": [
       "array([[3.88984612],\n",
       "       [3.10307354]])"
      ]
     },
     "execution_count": 5,
     "metadata": {},
     "output_type": "execute_result"
    }
   ],
   "source": [
    "theta_best"
   ]
  },
  {
   "cell_type": "code",
   "execution_count": 7,
   "id": "909287fe-e5a8-4b11-a9ee-22f78c6a4b4c",
   "metadata": {},
   "outputs": [],
   "source": [
    "# The actual function that we used to generate the data is y = 4 + 3x1 + Gaussian noise."
   ]
  },
  {
   "cell_type": "code",
   "execution_count": 8,
   "id": "92e6fd84-0dee-4ce9-ab28-389e1ee07399",
   "metadata": {},
   "outputs": [],
   "source": [
    "# We would have hoped for θ0 = 4 and θ1 = 3 instead of θ0 = 3.88984612 and θ1 = 3.10307354 Close\n",
    "# enough, but the noise made it impossible to recover the exact parameters of the origi‐\n",
    "# nal function."
   ]
  },
  {
   "cell_type": "code",
   "execution_count": 9,
   "id": "fb73752a-9d4e-4417-8885-778cf8061628",
   "metadata": {},
   "outputs": [
    {
     "data": {
      "text/plain": [
       "array([[ 3.88984612],\n",
       "       [10.09599319]])"
      ]
     },
     "execution_count": 9,
     "metadata": {},
     "output_type": "execute_result"
    }
   ],
   "source": [
    "# Two new predictions\n",
    "X_new = np.array([[0], [2]])\n",
    "X_new_b = np.c_[np.ones((2, 1)), X_new] # add x0 = 1 to each instance\n",
    "y_predict = X_new_b.dot(theta_best)\n",
    "y_predict"
   ]
  },
  {
   "cell_type": "code",
   "execution_count": 10,
   "id": "cdb36d68-127d-40e1-841b-17fbde9db38b",
   "metadata": {},
   "outputs": [
    {
     "ename": "NameError",
     "evalue": "name 'plt' is not defined",
     "output_type": "error",
     "traceback": [
      "\u001b[0;31m---------------------------------------------------------------------------\u001b[0m",
      "\u001b[0;31mNameError\u001b[0m                                 Traceback (most recent call last)",
      "Cell \u001b[0;32mIn[10], line 1\u001b[0m\n\u001b[0;32m----> 1\u001b[0m \u001b[43mplt\u001b[49m\u001b[38;5;241m.\u001b[39mplot(X_new, y_predict, \u001b[38;5;124m\"\u001b[39m\u001b[38;5;124mr-\u001b[39m\u001b[38;5;124m\"\u001b[39m)\n\u001b[1;32m      2\u001b[0m plt\u001b[38;5;241m.\u001b[39mplot(X, y, \u001b[38;5;124m\"\u001b[39m\u001b[38;5;124mb.\u001b[39m\u001b[38;5;124m\"\u001b[39m)\n",
      "\u001b[0;31mNameError\u001b[0m: name 'plt' is not defined"
     ]
    }
   ],
   "source": [
    "plt.plot(X_new, y_predict, \"r-\")\n",
    "plt.plot(X, y, \"b.\")"
   ]
  },
  {
   "cell_type": "code",
   "execution_count": null,
   "id": "bdcaffeb-c65d-4d38-8d8b-e1e2f236f099",
   "metadata": {},
   "outputs": [],
   "source": []
  }
 ],
 "metadata": {
  "kernelspec": {
   "display_name": "Python 3 (ipykernel)",
   "language": "python",
   "name": "python3"
  },
  "language_info": {
   "codemirror_mode": {
    "name": "ipython",
    "version": 3
   },
   "file_extension": ".py",
   "mimetype": "text/x-python",
   "name": "python",
   "nbconvert_exporter": "python",
   "pygments_lexer": "ipython3",
   "version": "3.11.9"
  }
 },
 "nbformat": 4,
 "nbformat_minor": 5
}
